{
  "nbformat": 4,
  "nbformat_minor": 0,
  "metadata": {
    "colab": {
      "name": "Comparison_Of_Classifiers.ipynb",
      "provenance": [],
      "collapsed_sections": []
    },
    "kernelspec": {
      "name": "python3",
      "display_name": "Python 3"
    }
  },
  "cells": [
    {
      "cell_type": "code",
      "metadata": {
        "id": "BhiGp-KFMoH9"
      },
      "source": [
        "import pandas as pd\r\n",
        "import seaborn as sns\r\n",
        "import random\r\n",
        "import tensorflow as tf\r\n",
        "from tensorflow import keras\r\n",
        "from keras.layers import Dense\r\n",
        "from keras.models import Sequential\r\n",
        "from keras.layers.experimental.preprocessing import Normalization\r\n",
        "from keras.optimizers import Adam\r\n",
        "import numpy as np\r\n",
        "from sklearn.neighbors import KNeighborsClassifier\r\n",
        "from sklearn import tree\r\n",
        "from sklearn.ensemble import RandomForestClassifier,AdaBoostClassifier\r\n",
        "from sklearn.tree import DecisionTreeClassifier\r\n",
        "from sklearn.model_selection import cross_val_score\r\n",
        "from sklearn.naive_bayes import GaussianNB\r\n",
        "from sklearn.metrics import recall_score,precision_score,f1_score,confusion_matrix\r\n",
        "import keras.metrics\r\n",
        "import matplotlib.pyplot as plt"
      ],
      "execution_count": null,
      "outputs": []
    },
    {
      "cell_type": "code",
      "metadata": {
        "id": "DfK7LDNVOEs6"
      },
      "source": [
        "def load_split_data():\r\n",
        "  df=pd.read_csv(\"/content/drive/MyDrive/dataset/magic04.csv\")\r\n",
        "  seed=0\r\n",
        "  test_data=df.sample(frac=0.3,random_state=seed)\r\n",
        "  train_data=df.drop(test_data.index)\r\n",
        "  return train_data,test_data"
      ],
      "execution_count": null,
      "outputs": []
    },
    {
      "cell_type": "code",
      "metadata": {
        "id": "B11qOV1bORTx",
        "colab": {
          "base_uri": "https://localhost:8080/",
          "height": 402
        },
        "outputId": "c20a352c-972e-4db1-9a95-a997946ac500"
      },
      "source": [
        "train_data"
      ],
      "execution_count": null,
      "outputs": [
        {
          "output_type": "execute_result",
          "data": {
            "text/html": [
              "<div>\n",
              "<style scoped>\n",
              "    .dataframe tbody tr th:only-of-type {\n",
              "        vertical-align: middle;\n",
              "    }\n",
              "\n",
              "    .dataframe tbody tr th {\n",
              "        vertical-align: top;\n",
              "    }\n",
              "\n",
              "    .dataframe thead th {\n",
              "        text-align: right;\n",
              "    }\n",
              "</style>\n",
              "<table border=\"1\" class=\"dataframe\">\n",
              "  <thead>\n",
              "    <tr style=\"text-align: right;\">\n",
              "      <th></th>\n",
              "      <th>fLength</th>\n",
              "      <th>fWidth</th>\n",
              "      <th>fSize</th>\n",
              "      <th>fConc</th>\n",
              "      <th>fConc1</th>\n",
              "      <th>fAsym</th>\n",
              "      <th>fM3Long</th>\n",
              "      <th>fM3Trans</th>\n",
              "      <th>fAlpha</th>\n",
              "      <th>fDist</th>\n",
              "    </tr>\n",
              "  </thead>\n",
              "  <tbody>\n",
              "    <tr>\n",
              "      <th>0</th>\n",
              "      <td>45.194199</td>\n",
              "      <td>26.435101</td>\n",
              "      <td>3.1055</td>\n",
              "      <td>0.2290</td>\n",
              "      <td>0.1235</td>\n",
              "      <td>11.295100</td>\n",
              "      <td>39.522202</td>\n",
              "      <td>22.867800</td>\n",
              "      <td>7.879700</td>\n",
              "      <td>116.305000</td>\n",
              "    </tr>\n",
              "    <tr>\n",
              "      <th>1</th>\n",
              "      <td>35.557800</td>\n",
              "      <td>7.630700</td>\n",
              "      <td>2.3608</td>\n",
              "      <td>0.5229</td>\n",
              "      <td>0.3159</td>\n",
              "      <td>-28.440901</td>\n",
              "      <td>-25.817101</td>\n",
              "      <td>7.996600</td>\n",
              "      <td>31.497999</td>\n",
              "      <td>181.839996</td>\n",
              "    </tr>\n",
              "    <tr>\n",
              "      <th>2</th>\n",
              "      <td>80.750298</td>\n",
              "      <td>30.581200</td>\n",
              "      <td>3.8613</td>\n",
              "      <td>0.1555</td>\n",
              "      <td>0.0832</td>\n",
              "      <td>-53.329201</td>\n",
              "      <td>77.732498</td>\n",
              "      <td>22.163401</td>\n",
              "      <td>5.239000</td>\n",
              "      <td>309.130005</td>\n",
              "    </tr>\n",
              "    <tr>\n",
              "      <th>3</th>\n",
              "      <td>30.370600</td>\n",
              "      <td>20.158800</td>\n",
              "      <td>2.5711</td>\n",
              "      <td>0.2926</td>\n",
              "      <td>0.1597</td>\n",
              "      <td>1.156700</td>\n",
              "      <td>-13.103400</td>\n",
              "      <td>17.462601</td>\n",
              "      <td>60.779499</td>\n",
              "      <td>263.980011</td>\n",
              "    </tr>\n",
              "    <tr>\n",
              "      <th>4</th>\n",
              "      <td>29.697901</td>\n",
              "      <td>0.000000</td>\n",
              "      <td>2.3284</td>\n",
              "      <td>0.6338</td>\n",
              "      <td>0.4014</td>\n",
              "      <td>0.000000</td>\n",
              "      <td>0.000000</td>\n",
              "      <td>-17.635500</td>\n",
              "      <td>9.010000</td>\n",
              "      <td>105.221001</td>\n",
              "    </tr>\n",
              "    <tr>\n",
              "      <th>...</th>\n",
              "      <td>...</td>\n",
              "      <td>...</td>\n",
              "      <td>...</td>\n",
              "      <td>...</td>\n",
              "      <td>...</td>\n",
              "      <td>...</td>\n",
              "      <td>...</td>\n",
              "      <td>...</td>\n",
              "      <td>...</td>\n",
              "      <td>...</td>\n",
              "    </tr>\n",
              "    <tr>\n",
              "      <th>9337</th>\n",
              "      <td>182.500305</td>\n",
              "      <td>76.556801</td>\n",
              "      <td>3.6872</td>\n",
              "      <td>0.1123</td>\n",
              "      <td>0.0666</td>\n",
              "      <td>192.267502</td>\n",
              "      <td>93.030197</td>\n",
              "      <td>-62.619202</td>\n",
              "      <td>82.169098</td>\n",
              "      <td>283.473114</td>\n",
              "    </tr>\n",
              "    <tr>\n",
              "      <th>9338</th>\n",
              "      <td>21.384600</td>\n",
              "      <td>10.917000</td>\n",
              "      <td>2.6161</td>\n",
              "      <td>0.5857</td>\n",
              "      <td>0.3934</td>\n",
              "      <td>15.261800</td>\n",
              "      <td>11.524500</td>\n",
              "      <td>2.876600</td>\n",
              "      <td>2.422900</td>\n",
              "      <td>106.825798</td>\n",
              "    </tr>\n",
              "    <tr>\n",
              "      <th>9339</th>\n",
              "      <td>28.945200</td>\n",
              "      <td>6.702000</td>\n",
              "      <td>2.2672</td>\n",
              "      <td>0.5351</td>\n",
              "      <td>0.2784</td>\n",
              "      <td>37.081600</td>\n",
              "      <td>13.185300</td>\n",
              "      <td>-2.963200</td>\n",
              "      <td>86.797501</td>\n",
              "      <td>247.455994</td>\n",
              "    </tr>\n",
              "    <tr>\n",
              "      <th>9340</th>\n",
              "      <td>75.445503</td>\n",
              "      <td>47.530499</td>\n",
              "      <td>3.4483</td>\n",
              "      <td>0.1417</td>\n",
              "      <td>0.0549</td>\n",
              "      <td>-9.356100</td>\n",
              "      <td>41.056198</td>\n",
              "      <td>-9.466200</td>\n",
              "      <td>30.298700</td>\n",
              "      <td>256.516602</td>\n",
              "    </tr>\n",
              "    <tr>\n",
              "      <th>9341</th>\n",
              "      <td>120.513496</td>\n",
              "      <td>76.901802</td>\n",
              "      <td>3.9939</td>\n",
              "      <td>0.0944</td>\n",
              "      <td>0.0683</td>\n",
              "      <td>5.804300</td>\n",
              "      <td>-93.522400</td>\n",
              "      <td>-63.838902</td>\n",
              "      <td>84.687401</td>\n",
              "      <td>408.316589</td>\n",
              "    </tr>\n",
              "  </tbody>\n",
              "</table>\n",
              "<p>9342 rows × 10 columns</p>\n",
              "</div>"
            ],
            "text/plain": [
              "         fLength     fWidth   fSize  ...   fM3Trans     fAlpha       fDist\n",
              "0      45.194199  26.435101  3.1055  ...  22.867800   7.879700  116.305000\n",
              "1      35.557800   7.630700  2.3608  ...   7.996600  31.497999  181.839996\n",
              "2      80.750298  30.581200  3.8613  ...  22.163401   5.239000  309.130005\n",
              "3      30.370600  20.158800  2.5711  ...  17.462601  60.779499  263.980011\n",
              "4      29.697901   0.000000  2.3284  ... -17.635500   9.010000  105.221001\n",
              "...          ...        ...     ...  ...        ...        ...         ...\n",
              "9337  182.500305  76.556801  3.6872  ... -62.619202  82.169098  283.473114\n",
              "9338   21.384600  10.917000  2.6161  ...   2.876600   2.422900  106.825798\n",
              "9339   28.945200   6.702000  2.2672  ...  -2.963200  86.797501  247.455994\n",
              "9340   75.445503  47.530499  3.4483  ...  -9.466200  30.298700  256.516602\n",
              "9341  120.513496  76.901802  3.9939  ... -63.838902  84.687401  408.316589\n",
              "\n",
              "[9342 rows x 10 columns]"
            ]
          },
          "metadata": {
            "tags": []
          },
          "execution_count": 96
        }
      ]
    },
    {
      "cell_type": "code",
      "metadata": {
        "id": "83ZE3KhlQwTu",
        "colab": {
          "base_uri": "https://localhost:8080/",
          "height": 296
        },
        "outputId": "9bc6d5c5-1131-41a4-f412-9aad84aa1995"
      },
      "source": [
        "train_data,test_data=load_split_data()\r\n",
        "sns.countplot(x='class',data=train_data)"
      ],
      "execution_count": null,
      "outputs": [
        {
          "output_type": "execute_result",
          "data": {
            "text/plain": [
              "<matplotlib.axes._subplots.AxesSubplot at 0x7f48efbea550>"
            ]
          },
          "metadata": {
            "tags": []
          },
          "execution_count": 4
        },
        {
          "output_type": "display_data",
          "data": {
            "image/png": "[encoded data removed]",
            "text/plain": [
              "<Figure size 432x288 with 1 Axes>"
            ]
          },
          "metadata": {
            "tags": [],
            "needs_background": "light"
          }
        }
      ]
    },
    {
      "cell_type": "code",
      "metadata": {
        "colab": {
          "base_uri": "https://localhost:8080/"
        },
        "id": "3SomGJk0RtU9",
        "outputId": "fed8fabc-f845-4807-e01a-f3b6821de67f"
      },
      "source": [
        "train_data['class'].value_counts()"
      ],
      "execution_count": null,
      "outputs": [
        {
          "output_type": "execute_result",
          "data": {
            "text/plain": [
              "g    8643\n",
              "h    4671\n",
              "Name: class, dtype: int64"
            ]
          },
          "metadata": {
            "tags": []
          },
          "execution_count": 37
        }
      ]
    },
    {
      "cell_type": "code",
      "metadata": {
        "id": "zQIWtsO3SMDD"
      },
      "source": [
        "def sample_together(n, X, y):\r\n",
        "    rows = random.sample(np.arange(0,len(X.index)).tolist(),n)\r\n",
        "    return X.iloc[rows,], y.iloc[rows,]\r\n",
        "def undersample(train_data, under = 'h'):\r\n",
        "    y=train_data.pop('class')\r\n",
        "    X=train_data\r\n",
        "    y_min = y[y == under]\r\n",
        "    y_max = y[y != under]\r\n",
        "    X_min = X.filter(y_min.index,axis = 0)\r\n",
        "    X_max = X.filter(y_max.index,axis = 0)\r\n",
        "\r\n",
        "    X_under, y_under = sample_together(len(y_min.index), X_max, y_max)\r\n",
        "    \r\n",
        "    X = pd.concat([X_under, X_min])\r\n",
        "    y = pd.concat([y_under, y_min])\r\n",
        "    y_train=np.array(y)\r\n",
        "    y_train=y_train.reshape((y_train.shape[0],1))\r\n",
        "    train_data=np.concatenate((X,y_train),axis=1)\r\n",
        "    train_data=pd.DataFrame(train_data)\r\n",
        "    train_data.columns=['fLength', 'fWidth', 'fSize', 'fConc', 'fConc1', 'fAsym', 'fM3Long','fM3Trans', 'fAlpha', 'fDist', 'class']\r\n",
        "    return train_data"
      ],
      "execution_count": null,
      "outputs": []
    },
    {
      "cell_type": "code",
      "metadata": {
        "id": "XZ_2lHshOLq5"
      },
      "source": [
        "train_data=undersample(train_data)"
      ],
      "execution_count": null,
      "outputs": []
    },
    {
      "cell_type": "code",
      "metadata": {
        "colab": {
          "base_uri": "https://localhost:8080/",
          "height": 296
        },
        "id": "c_-kRgCuOhhJ",
        "outputId": "4772f04a-c1aa-4360-826b-ee09a34e825a"
      },
      "source": [
        "sns.countplot(x='class',data=train_data)"
      ],
      "execution_count": null,
      "outputs": [
        {
          "output_type": "execute_result",
          "data": {
            "text/plain": [
              "<matplotlib.axes._subplots.AxesSubplot at 0x7f48efadb5c0>"
            ]
          },
          "metadata": {
            "tags": []
          },
          "execution_count": 7
        },
        {
          "output_type": "display_data",
          "data": {
            "image/png": "[encoded data removed]",
            "text/plain": [
              "<Figure size 432x288 with 1 Axes>"
            ]
          },
          "metadata": {
            "tags": [],
            "needs_background": "light"
          }
        }
      ]
    },
    {
      "cell_type": "code",
      "metadata": {
        "colab": {
          "base_uri": "https://localhost:8080/"
        },
        "id": "_SBXo95oOiYt",
        "outputId": "11bc9966-3f51-4d1c-bd44-a95cb8f16fc3"
      },
      "source": [
        "train_data['class'].value_counts()"
      ],
      "execution_count": null,
      "outputs": [
        {
          "output_type": "execute_result",
          "data": {
            "text/plain": [
              "g    4671\n",
              "h    4671\n",
              "Name: class, dtype: int64"
            ]
          },
          "metadata": {
            "tags": []
          },
          "execution_count": 8
        }
      ]
    },
    {
      "cell_type": "code",
      "metadata": {
        "id": "dMk2eXR0PNoB"
      },
      "source": [
        "Y_train=train_data.pop('class')\r\n",
        "Y_test=test_data.pop('class')"
      ],
      "execution_count": null,
      "outputs": []
    },
    {
      "cell_type": "code",
      "metadata": {
        "id": "dvj40T7BQ9ap"
      },
      "source": [
        "def get_knns():\r\n",
        "  scores_list=[]\r\n",
        "  for i in range(1,25,2):\r\n",
        "    knn=KNeighborsClassifier(n_neighbors=i)\r\n",
        "    knn.fit(train_data,Y_train)\r\n",
        "    scores=cross_val_score(knn,train_data,Y_train,cv=5)\r\n",
        "    average_score=sum(scores)/len(scores)\r\n",
        "    scores_list.append(average_score)\r\n",
        "  return scores_list"
      ],
      "execution_count": null,
      "outputs": []
    },
    {
      "cell_type": "code",
      "metadata": {
        "colab": {
          "base_uri": "https://localhost:8080/",
          "height": 282
        },
        "id": "gn9PKykWRJ2F",
        "outputId": "3109d214-3585-44bf-9cb1-7a2f5f0581fd"
      },
      "source": [
        "scores_list=get_knns()\r\n",
        "plt.plot(range(1,25,2),scores_list)"
      ],
      "execution_count": null,
      "outputs": [
        {
          "output_type": "execute_result",
          "data": {
            "text/plain": [
              "[<matplotlib.lines.Line2D at 0x7f79a8687400>]"
            ]
          },
          "metadata": {
            "tags": []
          },
          "execution_count": 19
        },
        {
          "output_type": "display_data",
          "data": {
            "image/png": "[encoded data removed]",
            "text/plain": [
              "<Figure size 432x288 with 1 Axes>"
            ]
          },
          "metadata": {
            "tags": [],
            "needs_background": "light"
          }
        }
      ]
    },
    {
      "cell_type": "code",
      "metadata": {
        "id": "b_VP6eduRgBW"
      },
      "source": [
        "def get_best_knn(scores_list):\r\n",
        "  n=np.argmax(scores_list)\r\n",
        "  knn_best=KNeighborsClassifier(n_neighbors=(2*n)+1)\r\n",
        "  knn_best.fit(train_data,Y_train)\r\n",
        "  return knn_best"
      ],
      "execution_count": null,
      "outputs": []
    },
    {
      "cell_type": "code",
      "metadata": {
        "id": "JWijQPSTSKi5"
      },
      "source": [
        "knn_best=get_best_knn(scores_list)"
      ],
      "execution_count": null,
      "outputs": []
    },
    {
      "cell_type": "code",
      "metadata": {
        "colab": {
          "base_uri": "https://localhost:8080/"
        },
        "id": "qahV2h_BstAG",
        "outputId": "90a4c4b2-14d6-4acf-9da6-7ec787eb97e2"
      },
      "source": [
        "Y_hat=knn_best.predict(test_data)\r\n",
        "accuracy_knn=sum(Y_hat==Y_test)/len(Y_hat)\r\n",
        "f1_knn=f1_score(y_true=Y_test,y_pred=Y_hat,pos_label='g')\r\n",
        "precision_knn=precision_score(y_true=Y_test,y_pred=Y_hat,pos_label='g')\r\n",
        "recall_knn=recall_score(y_true=Y_test,y_pred=Y_hat,pos_label='g')\r\n",
        "confusion_matrix_knn=confusion_matrix(y_true=Y_test,y_pred=Y_hat)\r\n",
        "print(str(recall_knn)+\" \"+str(precision_knn)+\" \"+str(f1_knn)+\" \"+str(accuracy_knn))\r\n",
        "print(confusion_matrix_knn)"
      ],
      "execution_count": null,
      "outputs": [
        {
          "output_type": "stream",
          "text": [
            "0.8658172946597994 0.8251097907517437 0.844973544973545 0.7946021731510691\n",
            "[[3194  495]\n",
            " [ 677 1340]]\n"
          ],
          "name": "stdout"
        }
      ]
    },
    {
      "cell_type": "code",
      "metadata": {
        "colab": {
          "base_uri": "https://localhost:8080/"
        },
        "id": "XvjHlLekvaGL",
        "outputId": "facb3f1c-e174-4f95-ba50-b6bbe378ef5e"
      },
      "source": [
        "dt=DecisionTreeClassifier(criterion='gini')\r\n",
        "dt.fit(train_data,Y_train)\r\n",
        "Y_hat=dt.predict(test_data)\r\n",
        "accuracy_dt=sum(Y_hat==Y_test)/len(Y_hat)\r\n",
        "f1_dt=f1_score(y_true=Y_test,y_pred=Y_hat,pos_label='g')\r\n",
        "precision_dt=precision_score(y_true=Y_test,y_pred=Y_hat,pos_label='g')\r\n",
        "recall_dt=recall_score(y_true=Y_test,y_pred=Y_hat,pos_label='g')\r\n",
        "print(str(recall_dt)+\" \"+str(precision_dt)+\" \"+str(f1_dt)+\" \"+str(accuracy_dt))\r\n",
        "confusion_matrix_dt=confusion_matrix(y_true=Y_test,y_pred=Y_hat)\r\n",
        "print(confusion_matrix_dt)"
      ],
      "execution_count": null,
      "outputs": [
        {
          "output_type": "stream",
          "text": [
            "0.787747357007319 0.8711031175059952 0.8273309608540925 0.7874167542937259\n",
            "[[2906  783]\n",
            " [ 430 1587]]\n"
          ],
          "name": "stdout"
        }
      ]
    },
    {
      "cell_type": "code",
      "metadata": {
        "colab": {
          "base_uri": "https://localhost:8080/"
        },
        "id": "NK2Xgdl_wa3t",
        "outputId": "449b370e-bfc8-4fc0-8440-00ad445f4e3b"
      },
      "source": [
        "nb=GaussianNB()\r\n",
        "nb.fit(train_data,Y_train)\r\n",
        "Y_hat=nb.predict(test_data)\r\n",
        "accuracy_nb=sum(Y_hat==Y_test)/len(Y_hat)\r\n",
        "f1_nb=f1_score(y_true=Y_test,y_pred=Y_hat,pos_label='g')\r\n",
        "precision_nb=precision_score(y_true=Y_test,y_pred=Y_hat,pos_label='g')\r\n",
        "recall_nb=recall_score(y_true=Y_test,y_pred=Y_hat,pos_label='g')\r\n",
        "print(str(recall_nb)+\" \"+str(precision_nb)+\" \"+str(f1_nb)+\" \"+str(accuracy_nb))\r\n",
        "confusion_matrix_nb=confusion_matrix(y_true=Y_test,y_pred=Y_hat)\r\n",
        "print(confusion_matrix_nb)"
      ],
      "execution_count": null,
      "outputs": [
        {
          "output_type": "stream",
          "text": [
            "0.8991596638655462 0.730777704340163 0.8062712688381137 0.7206449351559762\n",
            "[[3317  372]\n",
            " [1222  795]]\n"
          ],
          "name": "stdout"
        }
      ]
    },
    {
      "cell_type": "code",
      "metadata": {
        "id": "J8VoNGSww8PC"
      },
      "source": [
        "def get_best_rf():\r\n",
        "  scores_list=[]\r\n",
        "  for i in range(1,50,5):\r\n",
        "    rf=RandomForestClassifier(n_estimators=i)\r\n",
        "    rf.fit(train_data,Y_train)\r\n",
        "    scores=cross_val_score(rf,train_data,Y_train,cv=5)\r\n",
        "    average_score=sum(scores)/len(scores)\r\n",
        "    scores_list.append(average_score)\r\n",
        "  return scores_list"
      ],
      "execution_count": null,
      "outputs": []
    },
    {
      "cell_type": "code",
      "metadata": {
        "colab": {
          "base_uri": "https://localhost:8080/",
          "height": 282
        },
        "id": "3mEAM6m4y9U4",
        "outputId": "9f7afc08-8c75-4b08-c83d-f1696b07867b"
      },
      "source": [
        "plt.plot(range(1,11),scores_list)"
      ],
      "execution_count": null,
      "outputs": [
        {
          "output_type": "execute_result",
          "data": {
            "text/plain": [
              "[<matplotlib.lines.Line2D at 0x7f79a13e8160>]"
            ]
          },
          "metadata": {
            "tags": []
          },
          "execution_count": 32
        },
        {
          "output_type": "display_data",
          "data": {
            "image/png": "[encoded data removed]",
            "text/plain": [
              "<Figure size 432x288 with 1 Axes>"
            ]
          },
          "metadata": {
            "tags": [],
            "needs_background": "light"
          }
        }
      ]
    },
    {
      "cell_type": "code",
      "metadata": {
        "id": "1HnmqWMSWKuZ"
      },
      "source": [
        "def get_best_rf(scores_list):\r\n",
        "  n=np.argmax(scores_list)\r\n",
        "  rf_best=RandomForestClassifier(n_estimators=(5*n)+1)\r\n",
        "  rf_best.fit(train_data,Y_train)\r\n",
        "  return rf_best\r\n"
      ],
      "execution_count": null,
      "outputs": []
    },
    {
      "cell_type": "code",
      "metadata": {
        "colab": {
          "base_uri": "https://localhost:8080/"
        },
        "id": "Okw9LbfaWpf8",
        "outputId": "d2054b46-79c2-4a64-f98e-9044ad59274c"
      },
      "source": [
        "n=np.argmax(scores_list)\r\n",
        "n"
      ],
      "execution_count": null,
      "outputs": [
        {
          "output_type": "execute_result",
          "data": {
            "text/plain": [
              "9"
            ]
          },
          "metadata": {
            "tags": []
          },
          "execution_count": 34
        }
      ]
    },
    {
      "cell_type": "code",
      "metadata": {
        "colab": {
          "base_uri": "https://localhost:8080/"
        },
        "id": "ugheed04W6-h",
        "outputId": "41035764-5203-4cb7-e65a-cce43fba357a"
      },
      "source": [
        "rf_best=get_best_rf(scores_list)\r\n",
        "Y_hat=rf_best.predict(test_data)\r\n",
        "accuracy_rf=sum(Y_hat==Y_test)/len(Y_hat)\r\n",
        "f1_rf=f1_score(y_true=Y_test,y_pred=Y_hat,pos_label='g')\r\n",
        "precision_rf=precision_score(y_true=Y_test,y_pred=Y_hat,pos_label='g')\r\n",
        "recall_rf=recall_score(y_true=Y_test,y_pred=Y_hat,pos_label='g')\r\n",
        "print(str(recall_rf)+\" \"+str(precision_rf)+\" \"+str(f1_rf)+\" \"+str(accuracy_rf))\r\n",
        "confusion_matrix_rf=confusion_matrix(y_true=Y_test,y_pred=Y_hat)\r\n",
        "print(confusion_matrix_rf)"
      ],
      "execution_count": null,
      "outputs": [
        {
          "output_type": "stream",
          "text": [
            "0.8641908376253727 0.9026047565118913 0.8829801966486637 0.8519102698913424\n",
            "[[3188  501]\n",
            " [ 344 1673]]\n"
          ],
          "name": "stdout"
        }
      ]
    },
    {
      "cell_type": "code",
      "metadata": {
        "id": "1RcH2P_-XCMu"
      },
      "source": [
        "scores_list=[]\r\n",
        "for i in range(1,50,5):\r\n",
        "  ada=AdaBoostClassifier(n_estimators=i)\r\n",
        "  ada.fit(train_data,Y_train)\r\n",
        "  scores=cross_val_score(rf,train_data,Y_train,cv=5)\r\n",
        "  average_score=sum(scores)/len(scores)\r\n",
        "  scores_list.append(average_score)"
      ],
      "execution_count": null,
      "outputs": []
    },
    {
      "cell_type": "code",
      "metadata": {
        "colab": {
          "base_uri": "https://localhost:8080/",
          "height": 282
        },
        "id": "lCK4Dw1HYXIr",
        "outputId": "2483af04-16d8-4547-f158-09e0dda6f0a1"
      },
      "source": [
        "plt.plot(range(1,50,5),scores_list)"
      ],
      "execution_count": null,
      "outputs": [
        {
          "output_type": "execute_result",
          "data": {
            "text/plain": [
              "[<matplotlib.lines.Line2D at 0x7f79a1288278>]"
            ]
          },
          "metadata": {
            "tags": []
          },
          "execution_count": 44
        },
        {
          "output_type": "display_data",
          "data": {
            "image/png": "[encoded data removed]",
            "text/plain": [
              "<Figure size 432x288 with 1 Axes>"
            ]
          },
          "metadata": {
            "tags": [],
            "needs_background": "light"
          }
        }
      ]
    },
    {
      "cell_type": "code",
      "metadata": {
        "id": "AVXxdbV-fU97"
      },
      "source": [
        "def get_best_ada(scores_list):  \r\n",
        "  n=np.argmax(scores_list)\r\n",
        "  ada_best=RandomForestClassifier(n_estimators=(5*n)+1)\r\n",
        "  ada_best.fit(train_data,Y_train)\r\n",
        "  return ada_best\r\n"
      ],
      "execution_count": null,
      "outputs": []
    },
    {
      "cell_type": "code",
      "metadata": {
        "colab": {
          "base_uri": "https://localhost:8080/"
        },
        "id": "W7zVILIegTAn",
        "outputId": "ff4ec3e9-0558-4818-cf0d-30228093c22c"
      },
      "source": [
        "ada_best=get_best_ada(scores_list)\r\n",
        "Y_hat=ada_best.predict(test_data)\r\n",
        "accuracy_ada=sum(Y_hat==Y_test)/len(Y_hat)\r\n",
        "f1_ada=f1_score(y_true=Y_test,y_pred=Y_hat,pos_label='g')\r\n",
        "precision_ada=precision_score(y_true=Y_test,y_pred=Y_hat,pos_label='g')\r\n",
        "recall_ada=recall_score(y_true=Y_test,y_pred=Y_hat,pos_label='g')\r\n",
        "print(str(recall_ada)+\" \"+str(precision_ada)+\" \"+str(f1_ada)+\" \"+str(accuracy_ada))\r\n",
        "confusion_matrix_ada=confusion_matrix(y_true=Y_test,y_pred=Y_hat)\r\n",
        "print(confusion_matrix_ada)"
      ],
      "execution_count": null,
      "outputs": [
        {
          "output_type": "stream",
          "text": [
            "0.8712388181078883 0.9028089887640449 0.8867429990343495 0.8561163687346652\n",
            "[[3214  475]\n",
            " [ 346 1671]]\n"
          ],
          "name": "stdout"
        }
      ]
    },
    {
      "cell_type": "code",
      "metadata": {
        "id": "Diyr8hPAhGds"
      },
      "source": [
        "accuracies={\"Decision Tree\":accuracy_dt,\"AdaBoost\":accuracy_ada_best,\"KNN\":accuracy_knn,\"Random Forest\":accuracy_rf,\"Naive Bayes\":accuracy_nb,\"Neural Network\":eva[1]}\r\n",
        "f1_scores={\"Decision Tree\":f1_dt,\"AdaBoost\":f1_ada,\"KNN\":f1_knn,\"Random Forest\":f1_rf,\"Naive Bayes\":f1_nb,\"Neural_Network\":f1_nn}\r\n",
        "precision_scores={\"Decision Tree\":precision_dt,\"AdaBoost\":precision_ada,\"KNN\":precision_knn,\"Random Forest\":precision_rf,\"Naive Bayes\":precision_nb,\"Neural Network\"}\r\n",
        "recall_scores={\"Decision Tree\":recall_dt,\"AdaBoost\":recall_ada,\"KNN\":recall_knn,\"Random Forest\":recall_rf,\"Naive Bayes\":recall_nb}\r\n"
      ],
      "execution_count": null,
      "outputs": []
    },
    {
      "cell_type": "code",
      "metadata": {
        "colab": {
          "base_uri": "https://localhost:8080/",
          "height": 311
        },
        "id": "G2N-wcMXkbRR",
        "outputId": "962aa7af-676b-4b25-89b9-2ffbbae334ed"
      },
      "source": [
        "fig, axs = plt.subplots(4)\r\n",
        "fig.suptitle('Plots')\r\n",
        "axs[0].bar(accuracies.keys(), accuracies.values(), width=0.3, color='g')\r\n",
        "axs[1].bar(f1_scores.keys(), f1_scores.values(), width=0.3, color='b')\r\n",
        "axs[2].bar(recall_scores.keys(), recall_scores.values(), width=0.3, color='r')\r\n",
        "axs[3].bar(precision_scores.keys(), precision_scores.values(), width=0.3, color='y')"
      ],
      "execution_count": null,
      "outputs": [
        {
          "output_type": "execute_result",
          "data": {
            "text/plain": [
              "<BarContainer object of 5 artists>"
            ]
          },
          "metadata": {
            "tags": []
          },
          "execution_count": 61
        },
        {
          "output_type": "display_data",
          "data": {
            "image/png": "[encoded data removed]",
            "text/plain": [
              "<Figure size 432x288 with 4 Axes>"
            ]
          },
          "metadata": {
            "tags": [],
            "needs_background": "light"
          }
        }
      ]
    },
    {
      "cell_type": "code",
      "metadata": {
        "colab": {
          "base_uri": "https://localhost:8080/",
          "height": 1000
        },
        "id": "lOAJQgbnlDJ6",
        "outputId": "c86a6a17-24f4-447e-cfe7-8f6c382752ef"
      },
      "source": [
        "normalizer=Normalization()\r\n",
        "#train_asnp=train_data.values\r\n",
        "normalizer.adapt(train_asnp)\r\n",
        "model=Sequential([normalizer,\r\n",
        "                  Dense(8,'relu'),\r\n",
        "                  Dense(8,'relu'),\r\n",
        "                  Dense(1,'sigmoid')\r\n",
        "                  ])\r\n",
        "optimizer=Adam(learning_rate=0.0001)\r\n",
        "model.compile(optimizer=optimizer,loss='binary_crossentropy',metrics=['accuracy'])\r\n",
        "model.fit(train_asnp,Y_asnp,epochs=100,validation_split=0.2,batch_size=1)"
      ],
      "execution_count": null,
      "outputs": [
        {
          "output_type": "stream",
          "text": [
            "Epoch 1/100\n",
            "7473/7473 [==============================] - 9s 1ms/step - loss: 0.7041 - accuracy: 0.6039 - val_loss: 0.8062 - val_accuracy: 0.2606\n",
            "Epoch 2/100\n",
            "7473/7473 [==============================] - 8s 1ms/step - loss: 0.5376 - accuracy: 0.7338 - val_loss: 0.7405 - val_accuracy: 0.4805\n",
            "Epoch 3/100\n",
            "7473/7473 [==============================] - 8s 1ms/step - loss: 0.4690 - accuracy: 0.7733 - val_loss: 0.6704 - val_accuracy: 0.6009\n",
            "Epoch 4/100\n",
            "7473/7473 [==============================] - 8s 1ms/step - loss: 0.4357 - accuracy: 0.7989 - val_loss: 0.6340 - val_accuracy: 0.6319\n",
            "Epoch 5/100\n",
            "7473/7473 [==============================] - 8s 1ms/step - loss: 0.4195 - accuracy: 0.8071 - val_loss: 0.6366 - val_accuracy: 0.6303\n",
            "Epoch 6/100\n",
            "7473/7473 [==============================] - 8s 1ms/step - loss: 0.4064 - accuracy: 0.8093 - val_loss: 0.6145 - val_accuracy: 0.6447\n",
            "Epoch 7/100\n",
            "7473/7473 [==============================] - 9s 1ms/step - loss: 0.4036 - accuracy: 0.8118 - val_loss: 0.5932 - val_accuracy: 0.6699\n",
            "Epoch 8/100\n",
            "7473/7473 [==============================] - 8s 1ms/step - loss: 0.3933 - accuracy: 0.8225 - val_loss: 0.5671 - val_accuracy: 0.6950\n",
            "Epoch 9/100\n",
            "7473/7473 [==============================] - 8s 1ms/step - loss: 0.3849 - accuracy: 0.8283 - val_loss: 0.5543 - val_accuracy: 0.7132\n",
            "Epoch 10/100\n",
            "7473/7473 [==============================] - 8s 1ms/step - loss: 0.3949 - accuracy: 0.8276 - val_loss: 0.5418 - val_accuracy: 0.7250\n",
            "Epoch 11/100\n",
            "7473/7473 [==============================] - 8s 1ms/step - loss: 0.3741 - accuracy: 0.8340 - val_loss: 0.5411 - val_accuracy: 0.7245\n",
            "Epoch 12/100\n",
            "7473/7473 [==============================] - 8s 1ms/step - loss: 0.3794 - accuracy: 0.8332 - val_loss: 0.5176 - val_accuracy: 0.7437\n",
            "Epoch 13/100\n",
            "7473/7473 [==============================] - 8s 1ms/step - loss: 0.3810 - accuracy: 0.8365 - val_loss: 0.5445 - val_accuracy: 0.7266\n",
            "Epoch 14/100\n",
            "7473/7473 [==============================] - 8s 1ms/step - loss: 0.3582 - accuracy: 0.8485 - val_loss: 0.5319 - val_accuracy: 0.7378\n",
            "Epoch 15/100\n",
            "7473/7473 [==============================] - 8s 1ms/step - loss: 0.3722 - accuracy: 0.8387 - val_loss: 0.5394 - val_accuracy: 0.7325\n",
            "Epoch 16/100\n",
            "7473/7473 [==============================] - 8s 1ms/step - loss: 0.3748 - accuracy: 0.8446 - val_loss: 0.5235 - val_accuracy: 0.7410\n",
            "Epoch 17/100\n",
            "7473/7473 [==============================] - 8s 1ms/step - loss: 0.3568 - accuracy: 0.8516 - val_loss: 0.5230 - val_accuracy: 0.7410\n",
            "Epoch 18/100\n",
            "7473/7473 [==============================] - 8s 1ms/step - loss: 0.3536 - accuracy: 0.8483 - val_loss: 0.5080 - val_accuracy: 0.7459\n",
            "Epoch 19/100\n",
            "7473/7473 [==============================] - 8s 1ms/step - loss: 0.3555 - accuracy: 0.8514 - val_loss: 0.5186 - val_accuracy: 0.7421\n",
            "Epoch 20/100\n",
            "7473/7473 [==============================] - 8s 1ms/step - loss: 0.3468 - accuracy: 0.8548 - val_loss: 0.5352 - val_accuracy: 0.7335\n",
            "Epoch 21/100\n",
            "7473/7473 [==============================] - 8s 1ms/step - loss: 0.3534 - accuracy: 0.8531 - val_loss: 0.5251 - val_accuracy: 0.7384\n",
            "Epoch 22/100\n",
            "7473/7473 [==============================] - 8s 1ms/step - loss: 0.3578 - accuracy: 0.8548 - val_loss: 0.4873 - val_accuracy: 0.7571\n",
            "Epoch 23/100\n",
            "3830/7473 [==============>...............] - ETA: 3s - loss: 0.3397 - accuracy: 0.8614"
          ],
          "name": "stdout"
        },
        {
          "output_type": "error",
          "ename": "KeyboardInterrupt",
          "evalue": "ignored",
          "traceback": [
            "\u001b[0;31m---------------------------------------------------------------------------\u001b[0m",
            "\u001b[0;31mKeyboardInterrupt\u001b[0m                         Traceback (most recent call last)",
            "\u001b[0;32m<ipython-input-51-707261c8613a>\u001b[0m in \u001b[0;36m<module>\u001b[0;34m()\u001b[0m\n\u001b[1;32m      9\u001b[0m \u001b[0moptimizer\u001b[0m\u001b[0;34m=\u001b[0m\u001b[0mAdam\u001b[0m\u001b[0;34m(\u001b[0m\u001b[0mlearning_rate\u001b[0m\u001b[0;34m=\u001b[0m\u001b[0;36m0.0001\u001b[0m\u001b[0;34m)\u001b[0m\u001b[0;34m\u001b[0m\u001b[0;34m\u001b[0m\u001b[0m\n\u001b[1;32m     10\u001b[0m \u001b[0mmodel\u001b[0m\u001b[0;34m.\u001b[0m\u001b[0mcompile\u001b[0m\u001b[0;34m(\u001b[0m\u001b[0moptimizer\u001b[0m\u001b[0;34m=\u001b[0m\u001b[0moptimizer\u001b[0m\u001b[0;34m,\u001b[0m\u001b[0mloss\u001b[0m\u001b[0;34m=\u001b[0m\u001b[0;34m'binary_crossentropy'\u001b[0m\u001b[0;34m,\u001b[0m\u001b[0mmetrics\u001b[0m\u001b[0;34m=\u001b[0m\u001b[0;34m[\u001b[0m\u001b[0;34m'accuracy'\u001b[0m\u001b[0;34m]\u001b[0m\u001b[0;34m)\u001b[0m\u001b[0;34m\u001b[0m\u001b[0;34m\u001b[0m\u001b[0m\n\u001b[0;32m---> 11\u001b[0;31m \u001b[0mmodel\u001b[0m\u001b[0;34m.\u001b[0m\u001b[0mfit\u001b[0m\u001b[0;34m(\u001b[0m\u001b[0mtrain_asnp\u001b[0m\u001b[0;34m,\u001b[0m\u001b[0mY_asnp\u001b[0m\u001b[0;34m,\u001b[0m\u001b[0mepochs\u001b[0m\u001b[0;34m=\u001b[0m\u001b[0;36m100\u001b[0m\u001b[0;34m,\u001b[0m\u001b[0mvalidation_split\u001b[0m\u001b[0;34m=\u001b[0m\u001b[0;36m0.2\u001b[0m\u001b[0;34m,\u001b[0m\u001b[0mbatch_size\u001b[0m\u001b[0;34m=\u001b[0m\u001b[0;36m1\u001b[0m\u001b[0;34m)\u001b[0m\u001b[0;34m\u001b[0m\u001b[0;34m\u001b[0m\u001b[0m\n\u001b[0m",
            "\u001b[0;32m/usr/local/lib/python3.6/dist-packages/tensorflow/python/keras/engine/training.py\u001b[0m in \u001b[0;36mfit\u001b[0;34m(self, x, y, batch_size, epochs, verbose, callbacks, validation_split, validation_data, shuffle, class_weight, sample_weight, initial_epoch, steps_per_epoch, validation_steps, validation_batch_size, validation_freq, max_queue_size, workers, use_multiprocessing)\u001b[0m\n\u001b[1;32m   1098\u001b[0m                 _r=1):\n\u001b[1;32m   1099\u001b[0m               \u001b[0mcallbacks\u001b[0m\u001b[0;34m.\u001b[0m\u001b[0mon_train_batch_begin\u001b[0m\u001b[0;34m(\u001b[0m\u001b[0mstep\u001b[0m\u001b[0;34m)\u001b[0m\u001b[0;34m\u001b[0m\u001b[0;34m\u001b[0m\u001b[0m\n\u001b[0;32m-> 1100\u001b[0;31m               \u001b[0mtmp_logs\u001b[0m \u001b[0;34m=\u001b[0m \u001b[0mself\u001b[0m\u001b[0;34m.\u001b[0m\u001b[0mtrain_function\u001b[0m\u001b[0;34m(\u001b[0m\u001b[0miterator\u001b[0m\u001b[0;34m)\u001b[0m\u001b[0;34m\u001b[0m\u001b[0;34m\u001b[0m\u001b[0m\n\u001b[0m\u001b[1;32m   1101\u001b[0m               \u001b[0;32mif\u001b[0m \u001b[0mdata_handler\u001b[0m\u001b[0;34m.\u001b[0m\u001b[0mshould_sync\u001b[0m\u001b[0;34m:\u001b[0m\u001b[0;34m\u001b[0m\u001b[0;34m\u001b[0m\u001b[0m\n\u001b[1;32m   1102\u001b[0m                 \u001b[0mcontext\u001b[0m\u001b[0;34m.\u001b[0m\u001b[0masync_wait\u001b[0m\u001b[0;34m(\u001b[0m\u001b[0;34m)\u001b[0m\u001b[0;34m\u001b[0m\u001b[0;34m\u001b[0m\u001b[0m\n",
            "\u001b[0;32m/usr/local/lib/python3.6/dist-packages/tensorflow/python/eager/def_function.py\u001b[0m in \u001b[0;36m__call__\u001b[0;34m(self, *args, **kwds)\u001b[0m\n\u001b[1;32m    826\u001b[0m     \u001b[0mtracing_count\u001b[0m \u001b[0;34m=\u001b[0m \u001b[0mself\u001b[0m\u001b[0;34m.\u001b[0m\u001b[0mexperimental_get_tracing_count\u001b[0m\u001b[0;34m(\u001b[0m\u001b[0;34m)\u001b[0m\u001b[0;34m\u001b[0m\u001b[0;34m\u001b[0m\u001b[0m\n\u001b[1;32m    827\u001b[0m     \u001b[0;32mwith\u001b[0m \u001b[0mtrace\u001b[0m\u001b[0;34m.\u001b[0m\u001b[0mTrace\u001b[0m\u001b[0;34m(\u001b[0m\u001b[0mself\u001b[0m\u001b[0;34m.\u001b[0m\u001b[0m_name\u001b[0m\u001b[0;34m)\u001b[0m \u001b[0;32mas\u001b[0m \u001b[0mtm\u001b[0m\u001b[0;34m:\u001b[0m\u001b[0;34m\u001b[0m\u001b[0;34m\u001b[0m\u001b[0m\n\u001b[0;32m--> 828\u001b[0;31m       \u001b[0mresult\u001b[0m \u001b[0;34m=\u001b[0m \u001b[0mself\u001b[0m\u001b[0;34m.\u001b[0m\u001b[0m_call\u001b[0m\u001b[0;34m(\u001b[0m\u001b[0;34m*\u001b[0m\u001b[0margs\u001b[0m\u001b[0;34m,\u001b[0m \u001b[0;34m**\u001b[0m\u001b[0mkwds\u001b[0m\u001b[0;34m)\u001b[0m\u001b[0;34m\u001b[0m\u001b[0;34m\u001b[0m\u001b[0m\n\u001b[0m\u001b[1;32m    829\u001b[0m       \u001b[0mcompiler\u001b[0m \u001b[0;34m=\u001b[0m \u001b[0;34m\"xla\"\u001b[0m \u001b[0;32mif\u001b[0m \u001b[0mself\u001b[0m\u001b[0;34m.\u001b[0m\u001b[0m_experimental_compile\u001b[0m \u001b[0;32melse\u001b[0m \u001b[0;34m\"nonXla\"\u001b[0m\u001b[0;34m\u001b[0m\u001b[0;34m\u001b[0m\u001b[0m\n\u001b[1;32m    830\u001b[0m       \u001b[0mnew_tracing_count\u001b[0m \u001b[0;34m=\u001b[0m \u001b[0mself\u001b[0m\u001b[0;34m.\u001b[0m\u001b[0mexperimental_get_tracing_count\u001b[0m\u001b[0;34m(\u001b[0m\u001b[0;34m)\u001b[0m\u001b[0;34m\u001b[0m\u001b[0;34m\u001b[0m\u001b[0m\n",
            "\u001b[0;32m/usr/local/lib/python3.6/dist-packages/tensorflow/python/eager/def_function.py\u001b[0m in \u001b[0;36m_call\u001b[0;34m(self, *args, **kwds)\u001b[0m\n\u001b[1;32m    853\u001b[0m       \u001b[0;31m# In this case we have created variables on the first call, so we run the\u001b[0m\u001b[0;34m\u001b[0m\u001b[0;34m\u001b[0m\u001b[0;34m\u001b[0m\u001b[0m\n\u001b[1;32m    854\u001b[0m       \u001b[0;31m# defunned version which is guaranteed to never create variables.\u001b[0m\u001b[0;34m\u001b[0m\u001b[0;34m\u001b[0m\u001b[0;34m\u001b[0m\u001b[0m\n\u001b[0;32m--> 855\u001b[0;31m       \u001b[0;32mreturn\u001b[0m \u001b[0mself\u001b[0m\u001b[0;34m.\u001b[0m\u001b[0m_stateless_fn\u001b[0m\u001b[0;34m(\u001b[0m\u001b[0;34m*\u001b[0m\u001b[0margs\u001b[0m\u001b[0;34m,\u001b[0m \u001b[0;34m**\u001b[0m\u001b[0mkwds\u001b[0m\u001b[0;34m)\u001b[0m  \u001b[0;31m# pylint: disable=not-callable\u001b[0m\u001b[0;34m\u001b[0m\u001b[0;34m\u001b[0m\u001b[0m\n\u001b[0m\u001b[1;32m    856\u001b[0m     \u001b[0;32melif\u001b[0m \u001b[0mself\u001b[0m\u001b[0;34m.\u001b[0m\u001b[0m_stateful_fn\u001b[0m \u001b[0;32mis\u001b[0m \u001b[0;32mnot\u001b[0m \u001b[0;32mNone\u001b[0m\u001b[0;34m:\u001b[0m\u001b[0;34m\u001b[0m\u001b[0;34m\u001b[0m\u001b[0m\n\u001b[1;32m    857\u001b[0m       \u001b[0;31m# Release the lock early so that multiple threads can perform the call\u001b[0m\u001b[0;34m\u001b[0m\u001b[0;34m\u001b[0m\u001b[0;34m\u001b[0m\u001b[0m\n",
            "\u001b[0;32m/usr/local/lib/python3.6/dist-packages/tensorflow/python/eager/function.py\u001b[0m in \u001b[0;36m__call__\u001b[0;34m(self, *args, **kwargs)\u001b[0m\n\u001b[1;32m   2941\u001b[0m        filtered_flat_args) = self._maybe_define_function(args, kwargs)\n\u001b[1;32m   2942\u001b[0m     return graph_function._call_flat(\n\u001b[0;32m-> 2943\u001b[0;31m         filtered_flat_args, captured_inputs=graph_function.captured_inputs)  # pylint: disable=protected-access\n\u001b[0m\u001b[1;32m   2944\u001b[0m \u001b[0;34m\u001b[0m\u001b[0m\n\u001b[1;32m   2945\u001b[0m   \u001b[0;34m@\u001b[0m\u001b[0mproperty\u001b[0m\u001b[0;34m\u001b[0m\u001b[0;34m\u001b[0m\u001b[0m\n",
            "\u001b[0;32m/usr/local/lib/python3.6/dist-packages/tensorflow/python/eager/function.py\u001b[0m in \u001b[0;36m_call_flat\u001b[0;34m(self, args, captured_inputs, cancellation_manager)\u001b[0m\n\u001b[1;32m   1917\u001b[0m       \u001b[0;31m# No tape is watching; skip to running the function.\u001b[0m\u001b[0;34m\u001b[0m\u001b[0;34m\u001b[0m\u001b[0;34m\u001b[0m\u001b[0m\n\u001b[1;32m   1918\u001b[0m       return self._build_call_outputs(self._inference_function.call(\n\u001b[0;32m-> 1919\u001b[0;31m           ctx, args, cancellation_manager=cancellation_manager))\n\u001b[0m\u001b[1;32m   1920\u001b[0m     forward_backward = self._select_forward_and_backward_functions(\n\u001b[1;32m   1921\u001b[0m         \u001b[0margs\u001b[0m\u001b[0;34m,\u001b[0m\u001b[0;34m\u001b[0m\u001b[0;34m\u001b[0m\u001b[0m\n",
            "\u001b[0;32m/usr/local/lib/python3.6/dist-packages/tensorflow/python/eager/function.py\u001b[0m in \u001b[0;36mcall\u001b[0;34m(self, ctx, args, cancellation_manager)\u001b[0m\n\u001b[1;32m    558\u001b[0m               \u001b[0minputs\u001b[0m\u001b[0;34m=\u001b[0m\u001b[0margs\u001b[0m\u001b[0;34m,\u001b[0m\u001b[0;34m\u001b[0m\u001b[0;34m\u001b[0m\u001b[0m\n\u001b[1;32m    559\u001b[0m               \u001b[0mattrs\u001b[0m\u001b[0;34m=\u001b[0m\u001b[0mattrs\u001b[0m\u001b[0;34m,\u001b[0m\u001b[0;34m\u001b[0m\u001b[0;34m\u001b[0m\u001b[0m\n\u001b[0;32m--> 560\u001b[0;31m               ctx=ctx)\n\u001b[0m\u001b[1;32m    561\u001b[0m         \u001b[0;32melse\u001b[0m\u001b[0;34m:\u001b[0m\u001b[0;34m\u001b[0m\u001b[0;34m\u001b[0m\u001b[0m\n\u001b[1;32m    562\u001b[0m           outputs = execute.execute_with_cancellation(\n",
            "\u001b[0;32m/usr/local/lib/python3.6/dist-packages/tensorflow/python/eager/execute.py\u001b[0m in \u001b[0;36mquick_execute\u001b[0;34m(op_name, num_outputs, inputs, attrs, ctx, name)\u001b[0m\n\u001b[1;32m     58\u001b[0m     \u001b[0mctx\u001b[0m\u001b[0;34m.\u001b[0m\u001b[0mensure_initialized\u001b[0m\u001b[0;34m(\u001b[0m\u001b[0;34m)\u001b[0m\u001b[0;34m\u001b[0m\u001b[0;34m\u001b[0m\u001b[0m\n\u001b[1;32m     59\u001b[0m     tensors = pywrap_tfe.TFE_Py_Execute(ctx._handle, device_name, op_name,\n\u001b[0;32m---> 60\u001b[0;31m                                         inputs, attrs, num_outputs)\n\u001b[0m\u001b[1;32m     61\u001b[0m   \u001b[0;32mexcept\u001b[0m \u001b[0mcore\u001b[0m\u001b[0;34m.\u001b[0m\u001b[0m_NotOkStatusException\u001b[0m \u001b[0;32mas\u001b[0m \u001b[0me\u001b[0m\u001b[0;34m:\u001b[0m\u001b[0;34m\u001b[0m\u001b[0;34m\u001b[0m\u001b[0m\n\u001b[1;32m     62\u001b[0m     \u001b[0;32mif\u001b[0m \u001b[0mname\u001b[0m \u001b[0;32mis\u001b[0m \u001b[0;32mnot\u001b[0m \u001b[0;32mNone\u001b[0m\u001b[0;34m:\u001b[0m\u001b[0;34m\u001b[0m\u001b[0;34m\u001b[0m\u001b[0m\n",
            "\u001b[0;31mKeyboardInterrupt\u001b[0m: "
          ]
        }
      ]
    },
    {
      "cell_type": "code",
      "metadata": {
        "id": "uTwHaYFXrUM2"
      },
      "source": [
        "train_asnp=train_data.values"
      ],
      "execution_count": null,
      "outputs": []
    },
    {
      "cell_type": "code",
      "metadata": {
        "id": "Vq-lkfmGsWIQ"
      },
      "source": [
        "Y_asnp=Y_train.values"
      ],
      "execution_count": null,
      "outputs": []
    },
    {
      "cell_type": "code",
      "metadata": {
        "id": "Rb4F-GKKslKn"
      },
      "source": [
        "Y_asnp=Y_asnp=='g'"
      ],
      "execution_count": null,
      "outputs": []
    },
    {
      "cell_type": "code",
      "metadata": {
        "colab": {
          "base_uri": "https://localhost:8080/"
        },
        "id": "cDmavatfs0xa",
        "outputId": "aee131ec-0d43-4350-98c4-be8dbdc964e7"
      },
      "source": [
        "Y_asnp=Y_asnp.reshape(9342,1)\r\n",
        "Y_asnp.shape"
      ],
      "execution_count": null,
      "outputs": [
        {
          "output_type": "execute_result",
          "data": {
            "text/plain": [
              "(9342, 1)"
            ]
          },
          "metadata": {
            "tags": []
          },
          "execution_count": 50
        }
      ]
    },
    {
      "cell_type": "code",
      "metadata": {
        "id": "nWqr98sAtPPr"
      },
      "source": [
        "train_asnp=np.array(train_asnp)"
      ],
      "execution_count": null,
      "outputs": []
    },
    {
      "cell_type": "code",
      "metadata": {
        "colab": {
          "base_uri": "https://localhost:8080/"
        },
        "id": "_IlBA2bftVHu",
        "outputId": "5c33b9ec-5f02-468c-8a36-72d2ebf04175"
      },
      "source": [
        "train_asnp.shape"
      ],
      "execution_count": null,
      "outputs": [
        {
          "output_type": "execute_result",
          "data": {
            "text/plain": [
              "(9342, 10)"
            ]
          },
          "metadata": {
            "tags": []
          },
          "execution_count": 45
        }
      ]
    },
    {
      "cell_type": "code",
      "metadata": {
        "id": "VYOxHSFltZhd"
      },
      "source": [
        "train_data=train_data.astype(np.float32)"
      ],
      "execution_count": null,
      "outputs": []
    },
    {
      "cell_type": "code",
      "metadata": {
        "id": "FQu16oXWt_Uw"
      },
      "source": [
        "test_data=test_data.astype(np.float32)\r\n",
        "test_asnp=test_data.values\r\n",
        "Y_asnp_test=Y_test=='g'"
      ],
      "execution_count": null,
      "outputs": []
    },
    {
      "cell_type": "code",
      "metadata": {
        "colab": {
          "base_uri": "https://localhost:8080/"
        },
        "id": "8exZm-8rvW6w",
        "outputId": "a2967e08-206d-4067-fa82-d928219c8f8c"
      },
      "source": [
        "eva=model.evaluate(test_asnp,Y_asnp_test,batch_size=1)\r\n",
        "y_pred=model.predict(test_asnp)\r\n"
      ],
      "execution_count": null,
      "outputs": [
        {
          "output_type": "stream",
          "text": [
            "5706/5706 [==============================] - 7s 1ms/step - loss: 0.3427 - accuracy: 0.8587\n"
          ],
          "name": "stdout"
        }
      ]
    },
    {
      "cell_type": "code",
      "metadata": {
        "id": "_Yo38gL7zLKP",
        "colab": {
          "base_uri": "https://localhost:8080/",
          "height": 162
        },
        "outputId": "6f6069ec-6951-49f0-c2d1-1e74e5160033"
      },
      "source": [
        "accuracies[\"Neural Network\"]=eva[1]"
      ],
      "execution_count": null,
      "outputs": [
        {
          "output_type": "error",
          "ename": "NameError",
          "evalue": "ignored",
          "traceback": [
            "\u001b[0;31m---------------------------------------------------------------------------\u001b[0m",
            "\u001b[0;31mNameError\u001b[0m                                 Traceback (most recent call last)",
            "\u001b[0;32m<ipython-input-65-94ecc4d1c281>\u001b[0m in \u001b[0;36m<module>\u001b[0;34m()\u001b[0m\n\u001b[0;32m----> 1\u001b[0;31m \u001b[0maccuracies\u001b[0m\u001b[0;34m[\u001b[0m\u001b[0;34m\"Neural Network\"\u001b[0m\u001b[0;34m]\u001b[0m\u001b[0;34m=\u001b[0m\u001b[0meva\u001b[0m\u001b[0;34m[\u001b[0m\u001b[0;36m1\u001b[0m\u001b[0;34m]\u001b[0m\u001b[0;34m\u001b[0m\u001b[0;34m\u001b[0m\u001b[0m\n\u001b[0m",
            "\u001b[0;31mNameError\u001b[0m: name 'accuracies' is not defined"
          ]
        }
      ]
    },
    {
      "cell_type": "code",
      "metadata": {
        "colab": {
          "base_uri": "https://localhost:8080/",
          "height": 282
        },
        "id": "LCvK4D140GAZ",
        "outputId": "02d9898d-838f-4b45-c00c-9441cc40b921"
      },
      "source": [
        "plt.bar(accuracies.keys(), accuracies.values(), width=0.3, color='g')\r\n"
      ],
      "execution_count": null,
      "outputs": [
        {
          "output_type": "execute_result",
          "data": {
            "text/plain": [
              "<BarContainer object of 6 artists>"
            ]
          },
          "metadata": {
            "tags": []
          },
          "execution_count": 85
        },
        {
          "output_type": "display_data",
          "data": {
            "image/png": "[encoded data removed]",
            "text/plain": [
              "<Figure size 432x288 with 1 Axes>"
            ]
          },
          "metadata": {
            "tags": [],
            "needs_background": "light"
          }
        }
      ]
    },
    {
      "cell_type": "code",
      "metadata": {
        "id": "d9_cnNPh7pTc",
        "colab": {
          "base_uri": "https://localhost:8080/"
        },
        "outputId": "0f14fc24-bb26-483a-d59f-755533e12dbb"
      },
      "source": [
        "#Y_hat=model.predict(test_asnp)\r\n",
        "f1_nn=f1_score(y_true=Y_asnp_test,y_pred=y_pred,pos_label=True)\r\n",
        "precision_nn=precision_score(y_true=Y_asnp_test,y_pred=y_pred,pos_label=True)\r\n",
        "recall_nn=recall_score(y_true=Y_asnp_test,y_pred=y_pred,pos_label=True)\r\n",
        "print(str(recall_nn)+\" \"+str(precision_nn)+\" \"+str(f1_nn)+\" \"+str(eva[1]))\r\n",
        "confusion_matrix_nn=confusion_matrix(y_true=Y_asnp_test,y_pred=y_pred)\r\n",
        "print(confusion_matrix_nn)"
      ],
      "execution_count": null,
      "outputs": [
        {
          "output_type": "stream",
          "text": [
            "0.9289780428300353 0.8630067992948879 0.8947780678851174 0.8587451577186584\n",
            "[[1473  544]\n",
            " [ 262 3427]]\n"
          ],
          "name": "stdout"
        }
      ]
    },
    {
      "cell_type": "code",
      "metadata": {
        "id": "BRmjeFmRe6ru"
      },
      "source": [
        "Y_hat=Y_hat>0.5"
      ],
      "execution_count": null,
      "outputs": []
    },
    {
      "cell_type": "code",
      "metadata": {
        "colab": {
          "base_uri": "https://localhost:8080/",
          "height": 162
        },
        "id": "s8IUWGTSe93P",
        "outputId": "c0e8809e-baef-4f65-b9bc-700516a821f3"
      },
      "source": [
        "Y_test_nn=Y_test=='g'"
      ],
      "execution_count": null,
      "outputs": [
        {
          "output_type": "error",
          "ename": "NameError",
          "evalue": "ignored",
          "traceback": [
            "\u001b[0;31m---------------------------------------------------------------------------\u001b[0m",
            "\u001b[0;31mNameError\u001b[0m                                 Traceback (most recent call last)",
            "\u001b[0;32m<ipython-input-1-7af8f26fcb8c>\u001b[0m in \u001b[0;36m<module>\u001b[0;34m()\u001b[0m\n\u001b[0;32m----> 1\u001b[0;31m \u001b[0mY_test_nn\u001b[0m\u001b[0;34m=\u001b[0m\u001b[0mY_test\u001b[0m\u001b[0;34m==\u001b[0m\u001b[0;34m'g'\u001b[0m\u001b[0;34m\u001b[0m\u001b[0;34m\u001b[0m\u001b[0m\n\u001b[0m",
            "\u001b[0;31mNameError\u001b[0m: name 'Y_test' is not defined"
          ]
        }
      ]
    },
    {
      "cell_type": "code",
      "metadata": {
        "id": "juH6KoWjfH9V"
      },
      "source": [
        "y_pred=y_pred>0.5"
      ],
      "execution_count": null,
      "outputs": []
    },
    {
      "cell_type": "code",
      "metadata": {
        "colab": {
          "base_uri": "https://localhost:8080/"
        },
        "id": "swcu-2576VmV",
        "outputId": "64253ea7-f368-4ea9-f48f-6ba2abe8d994"
      },
      "source": [
        "Y_asnp_test"
      ],
      "execution_count": null,
      "outputs": [
        {
          "output_type": "execute_result",
          "data": {
            "text/plain": [
              "18152    False\n",
              "2571      True\n",
              "12202     True\n",
              "4508      True\n",
              "14903    False\n",
              "         ...  \n",
              "6353      True\n",
              "6974      True\n",
              "7532      True\n",
              "15335    False\n",
              "6711      True\n",
              "Name: class, Length: 5706, dtype: bool"
            ]
          },
          "metadata": {
            "tags": []
          },
          "execution_count": 28
        }
      ]
    },
    {
      "cell_type": "code",
      "metadata": {
        "id": "YZKf0edf6ZN_"
      },
      "source": [
        "Y_asnp_test=Y_asnp_test.to_list()"
      ],
      "execution_count": null,
      "outputs": []
    },
    {
      "cell_type": "code",
      "metadata": {
        "colab": {
          "base_uri": "https://localhost:8080/"
        },
        "id": "q27StaYl6gBX",
        "outputId": "469b46c2-2a04-432c-aa68-2849a5aca2de"
      },
      "source": [
        "Y_asnp_test"
      ],
      "execution_count": null,
      "outputs": [
        {
          "output_type": "execute_result",
          "data": {
            "text/plain": [
              "18152    False\n",
              "2571      True\n",
              "12202     True\n",
              "4508      True\n",
              "14903    False\n",
              "         ...  \n",
              "6353      True\n",
              "6974      True\n",
              "7532      True\n",
              "15335    False\n",
              "6711      True\n",
              "Name: class, Length: 5706, dtype: bool"
            ]
          },
          "metadata": {
            "tags": []
          },
          "execution_count": 40
        }
      ]
    },
    {
      "cell_type": "code",
      "metadata": {
        "colab": {
          "base_uri": "https://localhost:8080/"
        },
        "id": "V9iInb066yx-",
        "outputId": "b3bd14ef-e232-4c1c-b152-e110d9faf045"
      },
      "source": [
        "Y_asnp"
      ],
      "execution_count": null,
      "outputs": [
        {
          "output_type": "execute_result",
          "data": {
            "text/plain": [
              "array([ True,  True,  True, ..., False, False, False])"
            ]
          },
          "metadata": {
            "tags": []
          },
          "execution_count": 33
        }
      ]
    },
    {
      "cell_type": "code",
      "metadata": {
        "id": "PWiTigs6653R"
      },
      "source": [
        "Y_asnp_test=Y_asnp_test.to_list()"
      ],
      "execution_count": null,
      "outputs": []
    },
    {
      "cell_type": "code",
      "metadata": {
        "colab": {
          "base_uri": "https://localhost:8080/"
        },
        "id": "2iC6-NoC7H3i",
        "outputId": "378d5030-c3d2-48ac-9dbe-f567ed59334a"
      },
      "source": [
        "y_pred"
      ],
      "execution_count": null,
      "outputs": [
        {
          "output_type": "execute_result",
          "data": {
            "text/plain": [
              "array([[ True],\n",
              "       [ True],\n",
              "       [ True],\n",
              "       ...,\n",
              "       [ True],\n",
              "       [False],\n",
              "       [False]])"
            ]
          },
          "metadata": {
            "tags": []
          },
          "execution_count": 55
        }
      ]
    },
    {
      "cell_type": "code",
      "metadata": {
        "id": "dQZCRTzk7eiV"
      },
      "source": [
        "Y_asnp_test=Y_asnp_test.to_list()"
      ],
      "execution_count": null,
      "outputs": []
    },
    {
      "cell_type": "code",
      "metadata": {
        "id": "qBk_Qc8B861Q"
      },
      "source": [
        ""
      ],
      "execution_count": null,
      "outputs": []
    }
  ]
}